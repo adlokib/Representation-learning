{
 "cells": [
  {
   "cell_type": "code",
   "execution_count": null,
   "source": [
    "import torch\n",
    "import os\n",
    "import numpy as np\n",
    "import matplotlib.pyplot as plt\n",
    "from torchvision import transforms\n",
    "from sklearn.metrics.pairwise import cosine_similarity\n",
    "\n",
    "from Utils.arch import *\n",
    "from Utils.helper import *\n",
    "from Utils.loss import *\n",
    "from Utils.args import img_size"
   ],
   "outputs": [],
   "metadata": {}
  },
  {
   "cell_type": "code",
   "execution_count": null,
   "source": [
    "iml=sorted([os.path.abspath(x) for x in glob.glob('data/**/*.jpg',recursive=True)])\n",
    "batch_size = 50\n",
    "thresh = 0.75\n",
    "min_samp = 3\n",
    "\n",
    "device = torch.device('cuda:0')\n",
    "file = 'checkpoints/ddp_model_12420.pth'"
   ],
   "outputs": [],
   "metadata": {}
  },
  {
   "cell_type": "code",
   "execution_count": null,
   "source": [
    "def tag(i,clas):\n",
    "    if visited[i] == 1:\n",
    "        return\n",
    "    \n",
    "    selected = (mat[i]>thresh).nonzero()[0]\n",
    "    visited[i] = 1\n",
    "    clss[i] = clas\n",
    "    \n",
    "    for entry in selected:\n",
    "        tag(entry,clas)"
   ],
   "outputs": [],
   "metadata": {}
  },
  {
   "cell_type": "code",
   "execution_count": null,
   "source": [
    "if 'ddp' in file:\n",
    "    net=torch.nn.DataParallel(Network(device))\n",
    "else:\n",
    "    net = Network(device)\n",
    "\n",
    "\n",
    "x = torch.load(file)\n",
    "net.load_state_dict(x)\n",
    "\n",
    "if 'ddp' in file:\n",
    "    net = net.module\n",
    "\n",
    "for p in net.parameters():\n",
    "    p.requires_grad = False\n",
    "\n",
    "net.to(device)\n"
   ],
   "outputs": [],
   "metadata": {}
  },
  {
   "cell_type": "code",
   "execution_count": null,
   "source": [
    "output_dict={}\n",
    "for batch_paths in [ iml[i:i+batch_size] for i in range(0,len(iml),batch_size)]:\n",
    "\n",
    "    batch=[]\n",
    "    print(len(batch_paths))\n",
    "    for path in batch_paths:\n",
    "        img=cv2.imread(path)\n",
    "        if img.shape[:2]!=img_size:\n",
    "            img=cv2.resize(img,(img_size[1],img_size[0]))\n",
    "        batch.append(img)\n",
    "\n",
    "    batch = np.array(batch)\n",
    "    batch = torch.from_numpy(batch)\n",
    "    batch = batch.permute(0, 3, 1, 2)\n",
    "    batch = batch.to(device).float()\n",
    "\n",
    "\n",
    "    batch_embed = net(batch)\n",
    "\n",
    "    batch_embed = batch_embed[0].cpu().detach().numpy()\n",
    "\n",
    "    for path,embed in zip(batch_paths,batch_embed):\n",
    "        output_dict[path]=embed\n"
   ],
   "outputs": [],
   "metadata": {}
  },
  {
   "cell_type": "code",
   "execution_count": null,
   "source": [
    "embeds = np.array(list(output_dict.values()))\n",
    "names = np.array(list(output_dict.keys()))\n",
    "\n",
    "mat = cosine_similarity(embeds)\n",
    "\n",
    "visited = np.zeros((len(mat)))\n",
    "clss = np.zeros((len(mat)))\n",
    "\n",
    "clas=0\n",
    "for i in range(len(mat)):\n",
    "    \n",
    "    if visited[i] == 0:\n",
    "        clas+=1\n",
    "        tag(i,clas)\n",
    "        \n",
    "to_set = []\n",
    "for entry in np.unique(clss):\n",
    "    if sum(clss == entry) <min_samp:\n",
    "        to_set.append(entry)\n",
    "\n",
    "for entry in to_set:\n",
    "    clss[clss==entry] = 0\n",
    "\n",
    "print(len(np.unique(clss)))"
   ],
   "outputs": [],
   "metadata": {}
  },
  {
   "cell_type": "code",
   "execution_count": null,
   "source": [
    "for img,cls in zip(names,clss):\n",
    "    try:\n",
    "        os.makedirs('cluster/'+str(int(cls)))\n",
    "    except:\n",
    "        pass\n",
    "\n",
    "    try:\n",
    "        os.symlink(img,'cluster/'+str(int(cls))+'/'+img.split(os.sep)[-1])\n",
    "        # shutil.copy(img,'cluster/'+str(int(cls))+'/')\n",
    "    except FileExistsError:\n",
    "        pass"
   ],
   "outputs": [],
   "metadata": {}
  },
  {
   "cell_type": "code",
   "execution_count": null,
   "source": [],
   "outputs": [],
   "metadata": {}
  }
 ],
 "metadata": {
  "orig_nbformat": 4,
  "language_info": {
   "name": "python",
   "version": "3.8.10",
   "mimetype": "text/x-python",
   "codemirror_mode": {
    "name": "ipython",
    "version": 3
   },
   "pygments_lexer": "ipython3",
   "nbconvert_exporter": "python",
   "file_extension": ".py"
  },
  "kernelspec": {
   "name": "python3",
   "display_name": "Python 3.8.10 64-bit"
  },
  "interpreter": {
   "hash": "916dbcbb3f70747c44a77c7bcd40155683ae19c65e1c03b4aa3499c5328201f1"
  }
 },
 "nbformat": 4,
 "nbformat_minor": 2
}