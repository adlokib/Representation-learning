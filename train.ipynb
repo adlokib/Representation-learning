{
 "cells": [
  {
   "cell_type": "code",
   "execution_count": 1,
   "source": [
    "import torch\n",
    "import os\n",
    "import matplotlib.pyplot as plt\n",
    "from torchvision import transforms\n",
    "\n",
    "from Utils.arch import *\n",
    "from Utils.helper import *\n",
    "from Utils.loss import *\n",
    "from Utils.args import *"
   ],
   "outputs": [],
   "metadata": {}
  },
  {
   "cell_type": "code",
   "execution_count": 2,
   "source": [
    "device = torch.device('cuda:0')\n",
    "net = Network(device)\n",
    "\n",
    "## If want to continue from checkpoint\n",
    "# net.load_state_dict(torch.load('checkpoints_cosine/snn_model_4120.pth'))\n",
    "\n",
    "net.to(device)\n",
    "pytorch_total_params = [p.numel() for p in net.parameters() if p.requires_grad]\n",
    "print(pytorch_total_params)\n",
    "print(sum(pytorch_total_params))"
   ],
   "outputs": [
    {
     "output_type": "stream",
     "name": "stdout",
     "text": [
      "[9408, 64, 64, 36864, 64, 64, 36864, 64, 64, 36864, 64, 64, 36864, 64, 64, 73728, 128, 128, 147456, 128, 128, 8192, 128, 128, 147456, 128, 128, 147456, 128, 128, 294912, 256, 256, 589824, 256, 256, 32768, 256, 256, 589824, 256, 256, 589824, 256, 256, 1179648, 512, 512, 2359296, 512, 512, 131072, 512, 512, 2359296, 512, 512, 2359296, 512, 512, 65536, 128, 128, 128, 49152, 384, 16384, 128, 65536, 512, 65536, 128, 128, 128, 128, 128, 49152, 384, 16384, 128, 65536, 512, 65536, 128, 128, 128, 128, 128, 49152, 384, 16384, 128, 65536, 512, 65536, 128, 128, 128, 128, 128, 2097152, 128]\n",
      "13934528\n"
     ]
    }
   ],
   "metadata": {}
  },
  {
   "cell_type": "code",
   "execution_count": 3,
   "source": [
    "trf =[\n",
    "    transforms.ColorJitter(0.85,0.85,0.85,0.5),\n",
    "    # transforms.RandomAffine(30),\n",
    "    # transforms.RandomPerspective(),\n",
    "    transforms.RandomRotation(5),\n",
    "    transforms.GaussianBlur(7),\n",
    "    # transforms.RandomErasing(p=1,scale=(0.09,0.18),value='random')\n",
    "    # transforms.RandomAdjustSharpness(0.5),\n",
    "    # transforms.RandomAutocontrast()\n",
    "]\n",
    "T = transforms.RandomChoice(trf)"
   ],
   "outputs": [],
   "metadata": {}
  },
  {
   "cell_type": "code",
   "execution_count": 4,
   "source": [
    "loss_l=[]\n",
    "avg_Sp_l=[]\n",
    "avg_Sn_l=[]\n",
    "optimizer = torch.optim.SGD(net.parameters(), lr=0.00001, momentum=0.9)\n",
    "\n",
    "if not os.path.exists(checkpoint_fol):\n",
    "    os.mkdir(checkpoint_fol)\n",
    "\n",
    "data_dict,length_dict=create_dict(data_folder)"
   ],
   "outputs": [],
   "metadata": {}
  },
  {
   "cell_type": "code",
   "execution_count": 5,
   "source": [
    "\n",
    "for it in range(iters):\n",
    "\n",
    "    batch,Y = construct_batch(P,K,length_dict)\n",
    "\n",
    "    lis_np = parse_batch(batch,data_dict,img_size)  \n",
    "    inp = torch.from_numpy(lis_np)\n",
    "    inp = inp.to(device)\n",
    "    inp = inp.permute(0, 3, 1, 2)\n",
    "      \n",
    "    \n",
    "    inp = torch.stack([T(x) for x in inp])\n",
    "    inp = inp.float()\n",
    "    \n",
    "\n",
    "    vecs = net(inp)[0]\n",
    "\n",
    "    loss,avg_Sp,avg_Sn = circle_loss(vecs, Y, gamma, margin, device)\n",
    "    \n",
    "    loss = torch.mean(loss)\n",
    "\n",
    "    loss_l.append(loss.item())\n",
    "    avg_Sp_l.append(avg_Sp)\n",
    "    avg_Sn_l.append(avg_Sn)\n",
    "\n",
    "    optimizer.zero_grad()\n",
    "    loss.backward()\n",
    "    optimizer.step()\n",
    "\n",
    "    print(str(it+1),f'Train Loss: {loss.item():.4f}')\n",
    "\n",
    "    plt.figure(figsize=(10, 7))\n",
    "    plt.plot(\n",
    "        loss_l, color='green', linestyle='-', \n",
    "        label='Loss_graph'\n",
    "    )\n",
    "    plt.xlabel('Iterations')\n",
    "    plt.ylabel('Loss')\n",
    "    plt.legend()\n",
    "    plt.savefig(\"loss_plot.png\")\n",
    "    plt.close('all')\n",
    "\n",
    "    plt.figure(figsize=(10, 7))\n",
    "    plt.plot(\n",
    "        avg_Sn_l, color='red', linestyle='-', \n",
    "        label='Sn'\n",
    "    )\n",
    "    plt.plot(\n",
    "        avg_Sp_l, color='green', linestyle='-', \n",
    "        label='Sp'\n",
    "    )\n",
    "    plt.xlabel('Iterations')\n",
    "    plt.ylabel('Value')\n",
    "    plt.legend()\n",
    "    plt.savefig(\"Sp-Sn_plot.png\")\n",
    "    plt.close('all')\n",
    "    \n",
    "    \n",
    "    if it%20 ==0:\n",
    "        torch.save(net.state_dict(), checkpoint_fol+'/model_'+str(it)+'.pth')\n",
    "\n",
    "\n",
    "torch.save(net.state_dict(), checkpoint_fol+'/model_'+str(it)+'.pth')"
   ],
   "outputs": [
    {
     "output_type": "stream",
     "name": "stdout",
     "text": [
      "1 Train Loss: 163.5358\n",
      "2 Train Loss: 149.2604\n",
      "3 Train Loss: 137.9210\n",
      "4 Train Loss: 128.7604\n",
      "5 Train Loss: 124.7398\n",
      "6 Train Loss: 103.6009\n",
      "7 Train Loss: 85.0506\n",
      "8 Train Loss: 82.8821\n",
      "9 Train Loss: 57.2723\n",
      "10 Train Loss: 52.0194\n",
      "11 Train Loss: 50.3574\n",
      "12 Train Loss: 25.7241\n",
      "13 Train Loss: 18.8425\n"
     ]
    }
   ],
   "metadata": {}
  },
  {
   "cell_type": "code",
   "execution_count": null,
   "source": [],
   "outputs": [],
   "metadata": {}
  }
 ],
 "metadata": {
  "orig_nbformat": 4,
  "language_info": {
   "name": "python",
   "version": "3.8.10",
   "mimetype": "text/x-python",
   "codemirror_mode": {
    "name": "ipython",
    "version": 3
   },
   "pygments_lexer": "ipython3",
   "nbconvert_exporter": "python",
   "file_extension": ".py"
  },
  "kernelspec": {
   "name": "python3",
   "display_name": "Python 3.8.10 64-bit"
  },
  "interpreter": {
   "hash": "916dbcbb3f70747c44a77c7bcd40155683ae19c65e1c03b4aa3499c5328201f1"
  }
 },
 "nbformat": 4,
 "nbformat_minor": 2
}